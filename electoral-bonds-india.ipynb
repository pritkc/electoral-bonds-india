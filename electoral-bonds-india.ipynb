{
  "nbformat": 4,
  "nbformat_minor": 0,
  "metadata": {
    "colab": {
      "provenance": [],
      "authorship_tag": "ABX9TyPBbn5WvjaNBPINypLTrqCD",
      "include_colab_link": true
    },
    "kernelspec": {
      "name": "python3",
      "display_name": "Python 3"
    },
    "language_info": {
      "name": "python"
    }
  },
  "cells": [
    {
      "cell_type": "markdown",
      "metadata": {
        "id": "view-in-github",
        "colab_type": "text"
      },
      "source": [
        "<a href=\"https://colab.research.google.com/github/pritkc/electoral-bonds-india/blob/main/electoral-bonds-india.ipynb\" target=\"_parent\"><img src=\"https://colab.research.google.com/assets/colab-badge.svg\" alt=\"Open In Colab\"/></a>"
      ]
    },
    {
      "cell_type": "code",
      "execution_count": null,
      "metadata": {
        "id": "PNcck7wtvPnX"
      },
      "outputs": [],
      "source": [
        "import pandas as pd\n",
        "\n",
        "purchaser_df = pd.read_csv(\"Purchaser.csv\")\n",
        "encashment_df = pd.read_csv(\"Encashment.csv\")\n",
        "\n",
        "# Convert \"Date of Purchase\" to datetime format\n",
        "purchaser_df['Date of Purchase'] = pd.to_datetime(purchaser_df['Date of Purchase'], dayfirst=True)\n",
        "# Convert \"Denomination\" to numeric format\n",
        "purchaser_df['Denomination'] = purchaser_df['Denomination'].str.replace(',', '').astype(int)\n",
        "# Assign Row IDs\n",
        "purchaser_df['Row ID'] = range(1, len(purchaser_df) + 1)\n",
        "\n",
        "\n",
        "# Clean the \"Date of Encashment\" column name\n",
        "encashment_df.columns = encashment_df.columns.str.replace('\\n', ' ')\n",
        "# Convert \"Date of Encashment\" to datetime format\n",
        "encashment_df['Date of Encashment'] = pd.to_datetime(encashment_df['Date of Encashment'], dayfirst=True)\n",
        "# Convert \"Denomination\" to numeric format\n",
        "encashment_df['Denomination'] = encashment_df['Denomination'].str.replace(',', '').astype(int)\n",
        "# Assign Row IDs\n",
        "encashment_df['Row ID'] = range(1, len(encashment_df) + 1)\n",
        "\n",
        "print(\"Purchaser.csv column names:\", purchaser_df.columns.tolist())\n",
        "print(\"Encashment.csv column names:\", encashment_df.columns.tolist())\n",
        "\n",
        "print(purchaser_df)\n",
        "print(encashment_df)\n",
        "\n",
        "\n"
      ]
    },
    {
      "cell_type": "code",
      "source": [
        "# Assuming purchaser_df is your cleaned dataframe for the Purchaser data\n",
        "purchaser_df.to_csv('cleaned_Purchaser.csv', index=False)\n",
        "encashment_df.to_csv('cleaned_Encashment.csv', index=False)\n",
        "\n"
      ],
      "metadata": {
        "id": "ONoouiBD6AR_"
      },
      "execution_count": null,
      "outputs": []
    }
  ]
}